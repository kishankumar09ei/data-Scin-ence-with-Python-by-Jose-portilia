{
 "cells": [
  {
   "cell_type": "markdown",
   "metadata": {},
   "source": [
    "<a href=\"https://www.pieriandata.com\"><img src=\"../Pierian_Data_Logo.PNG\"></a>\n",
    "<strong><center>Copyright by Pierian Data Inc.</center></strong> \n",
    "<strong><center>Created by Jose Marcial Portilla.</center></strong>"
   ]
  },
  {
   "cell_type": "markdown",
   "metadata": {},
   "source": [
    "# Tensorboard\n",
    "\n",
    "---\n",
    "---\n",
    "\n",
    "**NOTE: You must watch the corresponding video to understand this lecture. This notebook can't serve as a full guide. Please watch the video BEFORE posting questions to the QA forum.**\n",
    "\n",
    "---\n",
    "---\n",
    "\n",
    "Let's explore the built in data visualization capabilities that come with Tensorboard.\n",
    "\n",
    "Full official tutorial available here: https://www.tensorflow.org/tensorboard/get_started\n",
    "\n",
    "## Data"
   ]
  },
  {
   "cell_type": "code",
   "execution_count": 1,
   "metadata": {},
   "outputs": [],
   "source": [
    "import pandas as pd\n",
    "import numpy as np"
   ]
  },
  {
   "cell_type": "code",
   "execution_count": 2,
   "metadata": {},
   "outputs": [],
   "source": [
    "df = pd.read_csv('../DATA/cancer_classification.csv')"
   ]
  },
  {
   "cell_type": "markdown",
   "metadata": {},
   "source": [
    "### Train Test Split"
   ]
  },
  {
   "cell_type": "code",
   "execution_count": 3,
   "metadata": {},
   "outputs": [],
   "source": [
    "X = df.drop('benign_0__mal_1',axis=1).values\n",
    "y = df['benign_0__mal_1'].values"
   ]
  },
  {
   "cell_type": "code",
   "execution_count": 4,
   "metadata": {},
   "outputs": [],
   "source": [
    "from sklearn.model_selection import train_test_split"
   ]
  },
  {
   "cell_type": "code",
   "execution_count": 5,
   "metadata": {},
   "outputs": [],
   "source": [
    "X_train, X_test, y_train, y_test = train_test_split(X,y,test_size=0.25,random_state=101)"
   ]
  },
  {
   "cell_type": "markdown",
   "metadata": {},
   "source": [
    "\n",
    "### Scaling Data"
   ]
  },
  {
   "cell_type": "code",
   "execution_count": 6,
   "metadata": {},
   "outputs": [],
   "source": [
    "from sklearn.preprocessing import MinMaxScaler"
   ]
  },
  {
   "cell_type": "code",
   "execution_count": 7,
   "metadata": {},
   "outputs": [],
   "source": [
    "scaler = MinMaxScaler()"
   ]
  },
  {
   "cell_type": "code",
   "execution_count": 8,
   "metadata": {},
   "outputs": [
    {
     "data": {
      "text/plain": [
       "MinMaxScaler(copy=True, feature_range=(0, 1))"
      ]
     },
     "execution_count": 8,
     "metadata": {},
     "output_type": "execute_result"
    }
   ],
   "source": [
    "scaler.fit(X_train)"
   ]
  },
  {
   "cell_type": "code",
   "execution_count": 9,
   "metadata": {},
   "outputs": [],
   "source": [
    "X_train = scaler.transform(X_train)\n",
    "X_test = scaler.transform(X_test)"
   ]
  },
  {
   "cell_type": "markdown",
   "metadata": {},
   "source": [
    "## Creating the Model"
   ]
  },
  {
   "cell_type": "code",
   "execution_count": 10,
   "metadata": {},
   "outputs": [],
   "source": [
    "import tensorflow as tf\n",
    "from tensorflow.keras.models import Sequential\n",
    "from tensorflow.keras.layers import Dense, Activation,Dropout"
   ]
  },
  {
   "cell_type": "code",
   "execution_count": 11,
   "metadata": {},
   "outputs": [],
   "source": [
    "from tensorflow.keras.callbacks import EarlyStopping,TensorBoard"
   ]
  },
  {
   "cell_type": "code",
   "execution_count": 12,
   "metadata": {},
   "outputs": [],
   "source": [
    "early_stop = EarlyStopping(monitor='val_loss', mode='min', verbose=1, patience=25)"
   ]
  },
  {
   "cell_type": "code",
   "execution_count": 13,
   "metadata": {},
   "outputs": [
    {
     "data": {
      "text/plain": [
       "'C:\\\\Users\\\\Kishan\\\\Downloads\\\\Py_DS_ML_Udemy_jose\\\\TensorFlow_FILES\\\\ANNs'"
      ]
     },
     "execution_count": 13,
     "metadata": {},
     "output_type": "execute_result"
    }
   ],
   "source": [
    "pwd"
   ]
  },
  {
   "cell_type": "markdown",
   "metadata": {},
   "source": [
    "## Creating the Tensorboard Callback\n",
    "\n",
    "TensorBoard is a visualization tool provided with TensorFlow.\n",
    "\n",
    "This callback logs events for TensorBoard, including:\n",
    "* Metrics summary plots\n",
    "* Training graph visualization\n",
    "* Activation histograms\n",
    "* Sampled profiling\n",
    "\n",
    "If you have installed TensorFlow with pip, you should be able\n",
    "to launch TensorBoard from the command line:\n",
    "\n",
    "```sh\n",
    "tensorboard --logdir=path_to_your_logs\n",
    "```\n",
    "\n",
    "You can find more information about TensorBoard\n",
    "[here](https://www.tensorflow.org/tensorboard/).\n",
    "\n",
    "    Arguments:\n",
    "        log_dir: the path of the directory where to save the log files to be\n",
    "          parsed by TensorBoard.\n",
    "        histogram_freq: frequency (in epochs) at which to compute activation and\n",
    "          weight histograms for the layers of the model. If set to 0, histograms\n",
    "          won't be computed. Validation data (or split) must be specified for\n",
    "          histogram visualizations.\n",
    "        write_graph: whether to visualize the graph in TensorBoard. The log file\n",
    "          can become quite large when write_graph is set to True.\n",
    "        write_images: whether to write model weights to visualize as image in\n",
    "          TensorBoard.\n",
    "        update_freq: `'batch'` or `'epoch'` or integer. When using `'batch'`,\n",
    "          writes the losses and metrics to TensorBoard after each batch. The same\n",
    "          applies for `'epoch'`. If using an integer, let's say `1000`, the\n",
    "          callback will write the metrics and losses to TensorBoard every 1000\n",
    "          samples. Note that writing too frequently to TensorBoard can slow down\n",
    "          your training.\n",
    "        profile_batch: Profile the batch to sample compute characteristics. By\n",
    "          default, it will profile the second batch. Set profile_batch=0 to\n",
    "          disable profiling. Must run in TensorFlow eager mode.\n",
    "        embeddings_freq: frequency (in epochs) at which embedding layers will\n",
    "          be visualized. If set to 0, embeddings won't be visualized.\n",
    "       "
   ]
  },
  {
   "cell_type": "code",
   "execution_count": 14,
   "metadata": {},
   "outputs": [],
   "source": [
    "from datetime import datetime"
   ]
  },
  {
   "cell_type": "code",
   "execution_count": 15,
   "metadata": {},
   "outputs": [
    {
     "data": {
      "text/plain": [
       "'2020-04-10--1901'"
      ]
     },
     "execution_count": 15,
     "metadata": {},
     "output_type": "execute_result"
    }
   ],
   "source": [
    "datetime.now().strftime(\"%Y-%m-%d--%H%M\")"
   ]
  },
  {
   "cell_type": "code",
   "execution_count": 16,
   "metadata": {},
   "outputs": [],
   "source": [
    "# WINDOWS: Use \"logs\\\\fit\"\n",
    "# MACOS/LINUX: Use \"logs\\fit\"\n",
    "\n",
    "log_directory = 'logs\\\\fit'\n",
    "\n",
    "# OPTIONAL: ADD A TIMESTAMP FOR UNIQUE FOLDER\n",
    "# timestamp = datetime.now().strftime(\"%Y-%m-%d--%H%M\")\n",
    "# log_directory = log_directory + '\\\\' + timestamp\n",
    "\n",
    "\n",
    "board = TensorBoard(log_dir=log_directory,histogram_freq=1,\n",
    "    write_graph=True,\n",
    "    write_images=True,\n",
    "    update_freq='epoch',\n",
    "    profile_batch=2,\n",
    "    embeddings_freq=1)"
   ]
  },
  {
   "cell_type": "markdown",
   "metadata": {},
   "source": [
    "Now create the model layers:"
   ]
  },
  {
   "cell_type": "code",
   "execution_count": 17,
   "metadata": {},
   "outputs": [],
   "source": [
    "model = Sequential()\n",
    "model.add(Dense(units=30,activation='relu'))\n",
    "model.add(Dropout(0.5))\n",
    "model.add(Dense(units=15,activation='relu'))\n",
    "model.add(Dropout(0.5))\n",
    "model.add(Dense(units=1,activation='sigmoid'))\n",
    "model.compile(loss='binary_crossentropy', optimizer='adam')"
   ]
  },
  {
   "cell_type": "markdown",
   "metadata": {},
   "source": [
    "## Train the Model"
   ]
  },
  {
   "cell_type": "code",
   "execution_count": 18,
   "metadata": {},
   "outputs": [
    {
     "name": "stdout",
     "output_type": "stream",
     "text": [
      "Train on 426 samples, validate on 143 samples\n",
      "Epoch 1/600\n",
      "WARNING:tensorflow:From C:\\Users\\Kishan\\Anaconda3\\lib\\site-packages\\tensorflow_core\\python\\ops\\nn_impl.py:183: where (from tensorflow.python.ops.array_ops) is deprecated and will be removed in a future version.\n",
      "Instructions for updating:\n",
      "Use tf.where in 2.0, which has the same broadcast rule as np.where\n",
      "WARNING:tensorflow:Entity <function Function._initialize_uninitialized_variables.<locals>.initialize_variables at 0x000002762C62C6A8> could not be transformed and will be executed as-is. Please report this to the AutoGraph team. When filing the bug, set the verbosity to 10 (on Linux, `export AUTOGRAPH_VERBOSITY=10`) and attach the full output. Cause: module 'gast' has no attribute 'Num'\n",
      "WARNING: Entity <function Function._initialize_uninitialized_variables.<locals>.initialize_variables at 0x000002762C62C6A8> could not be transformed and will be executed as-is. Please report this to the AutoGraph team. When filing the bug, set the verbosity to 10 (on Linux, `export AUTOGRAPH_VERBOSITY=10`) and attach the full output. Cause: module 'gast' has no attribute 'Num'\n",
      " 32/426 [=>............................] - ETA: 7s - loss: 0.7593WARNING:tensorflow:Method (on_train_batch_end) is slow compared to the batch update (0.101888). Check your callbacks.\n",
      "426/426 [==============================] - 2s 4ms/sample - loss: 0.7315 - val_loss: 0.6926\n",
      "Epoch 2/600\n",
      "426/426 [==============================] - 1s 1ms/sample - loss: 0.6979 - val_loss: 0.6680\n",
      "Epoch 3/600\n",
      "426/426 [==============================] - 1s 2ms/sample - loss: 0.6677 - val_loss: 0.6545\n",
      "Epoch 4/600\n",
      "426/426 [==============================] - 1s 2ms/sample - loss: 0.6656 - val_loss: 0.6416\n",
      "Epoch 5/600\n",
      "426/426 [==============================] - 0s 1ms/sample - loss: 0.6442 - val_loss: 0.6273\n",
      "Epoch 6/600\n",
      "426/426 [==============================] - 1s 1ms/sample - loss: 0.6356 - val_loss: 0.6078\n",
      "Epoch 7/600\n",
      "426/426 [==============================] - 1s 2ms/sample - loss: 0.6223 - val_loss: 0.5884\n",
      "Epoch 8/600\n",
      "426/426 [==============================] - 1s 1ms/sample - loss: 0.6036 - val_loss: 0.5683\n",
      "Epoch 9/600\n",
      "426/426 [==============================] - 1s 2ms/sample - loss: 0.5893 - val_loss: 0.5465\n",
      "Epoch 10/600\n",
      "426/426 [==============================] - 1s 1ms/sample - loss: 0.5729 - val_loss: 0.5248\n",
      "Epoch 11/600\n",
      "426/426 [==============================] - 0s 945us/sample - loss: 0.5563 - val_loss: 0.4989\n",
      "Epoch 12/600\n",
      "426/426 [==============================] - 1s 1ms/sample - loss: 0.5466 - val_loss: 0.4757\n",
      "Epoch 13/600\n",
      "426/426 [==============================] - 0s 1ms/sample - loss: 0.5150 - val_loss: 0.4496\n",
      "Epoch 14/600\n",
      "426/426 [==============================] - 0s 1ms/sample - loss: 0.4767 - val_loss: 0.4185\n",
      "Epoch 15/600\n",
      "426/426 [==============================] - 1s 3ms/sample - loss: 0.4428 - val_loss: 0.3836\n",
      "Epoch 16/600\n",
      "426/426 [==============================] - 1s 2ms/sample - loss: 0.4414 - val_loss: 0.3546\n",
      "Epoch 17/600\n",
      "426/426 [==============================] - 1s 2ms/sample - loss: 0.4272 - val_loss: 0.3308\n",
      "Epoch 18/600\n",
      "426/426 [==============================] - 1s 1ms/sample - loss: 0.3950 - val_loss: 0.3079\n",
      "Epoch 19/600\n",
      "426/426 [==============================] - 0s 1ms/sample - loss: 0.3751 - val_loss: 0.2849\n",
      "Epoch 20/600\n",
      "426/426 [==============================] - 1s 1ms/sample - loss: 0.3721 - val_loss: 0.2649\n",
      "Epoch 21/600\n",
      "426/426 [==============================] - 1s 1ms/sample - loss: 0.3906 - val_loss: 0.2556\n",
      "Epoch 22/600\n",
      "426/426 [==============================] - 0s 1ms/sample - loss: 0.3581 - val_loss: 0.2433\n",
      "Epoch 23/600\n",
      "426/426 [==============================] - 0s 890us/sample - loss: 0.3371 - val_loss: 0.2375\n",
      "Epoch 24/600\n",
      "426/426 [==============================] - 1s 1ms/sample - loss: 0.3259 - val_loss: 0.2254\n",
      "Epoch 25/600\n",
      "426/426 [==============================] - 0s 1ms/sample - loss: 0.3006 - val_loss: 0.2116\n",
      "Epoch 26/600\n",
      "426/426 [==============================] - 1s 1ms/sample - loss: 0.3068 - val_loss: 0.2005\n",
      "Epoch 27/600\n",
      "426/426 [==============================] - 0s 1ms/sample - loss: 0.3047 - val_loss: 0.1940\n",
      "Epoch 28/600\n",
      "426/426 [==============================] - 1s 1ms/sample - loss: 0.2958 - val_loss: 0.1855\n",
      "Epoch 29/600\n",
      "426/426 [==============================] - 0s 901us/sample - loss: 0.3050 - val_loss: 0.1785\n",
      "Epoch 30/600\n",
      "426/426 [==============================] - 0s 968us/sample - loss: 0.2958 - val_loss: 0.1809\n",
      "Epoch 31/600\n",
      "426/426 [==============================] - 0s 967us/sample - loss: 0.2814 - val_loss: 0.1741\n",
      "Epoch 32/600\n",
      "426/426 [==============================] - 0s 1ms/sample - loss: 0.2675 - val_loss: 0.1670\n",
      "Epoch 33/600\n",
      "426/426 [==============================] - 1s 2ms/sample - loss: 0.2543 - val_loss: 0.1724\n",
      "Epoch 34/600\n",
      "426/426 [==============================] - 0s 1ms/sample - loss: 0.2605 - val_loss: 0.1588\n",
      "Epoch 35/600\n",
      "426/426 [==============================] - 1s 2ms/sample - loss: 0.2612 - val_loss: 0.1538\n",
      "Epoch 36/600\n",
      "426/426 [==============================] - 1s 1ms/sample - loss: 0.2614 - val_loss: 0.1518\n",
      "Epoch 37/600\n",
      "426/426 [==============================] - 0s 1ms/sample - loss: 0.2057 - val_loss: 0.1436\n",
      "Epoch 38/600\n",
      "426/426 [==============================] - 0s 1ms/sample - loss: 0.2096 - val_loss: 0.1367\n",
      "Epoch 39/600\n",
      "426/426 [==============================] - 0s 1ms/sample - loss: 0.2246 - val_loss: 0.1374\n",
      "Epoch 40/600\n",
      "426/426 [==============================] - 1s 1ms/sample - loss: 0.2071 - val_loss: 0.1345\n",
      "Epoch 41/600\n",
      "426/426 [==============================] - 0s 999us/sample - loss: 0.2270 - val_loss: 0.1350\n",
      "Epoch 42/600\n",
      "426/426 [==============================] - 0s 1ms/sample - loss: 0.2250 - val_loss: 0.1304\n",
      "Epoch 43/600\n",
      "426/426 [==============================] - 0s 1ms/sample - loss: 0.1951 - val_loss: 0.1264\n",
      "Epoch 44/600\n",
      "426/426 [==============================] - 0s 896us/sample - loss: 0.2120 - val_loss: 0.1249\n",
      "Epoch 45/600\n",
      "426/426 [==============================] - 0s 944us/sample - loss: 0.2089 - val_loss: 0.1295\n",
      "Epoch 46/600\n",
      "426/426 [==============================] - 1s 1ms/sample - loss: 0.1881 - val_loss: 0.1307\n",
      "Epoch 47/600\n",
      "426/426 [==============================] - 0s 863us/sample - loss: 0.2116 - val_loss: 0.1270\n",
      "Epoch 48/600\n",
      "426/426 [==============================] - 0s 989us/sample - loss: 0.1975 - val_loss: 0.1138\n",
      "Epoch 49/600\n",
      "426/426 [==============================] - 0s 1ms/sample - loss: 0.1947 - val_loss: 0.1165\n",
      "Epoch 50/600\n",
      "426/426 [==============================] - 0s 993us/sample - loss: 0.1745 - val_loss: 0.1157\n",
      "Epoch 51/600\n",
      "426/426 [==============================] - 0s 1ms/sample - loss: 0.1594 - val_loss: 0.1198\n",
      "Epoch 52/600\n",
      "426/426 [==============================] - 0s 1ms/sample - loss: 0.1780 - val_loss: 0.1099\n",
      "Epoch 53/600\n",
      "426/426 [==============================] - 0s 991us/sample - loss: 0.1683 - val_loss: 0.1099\n",
      "Epoch 54/600\n",
      "426/426 [==============================] - 1s 1ms/sample - loss: 0.1808 - val_loss: 0.1179\n",
      "Epoch 55/600\n",
      "426/426 [==============================] - 0s 1ms/sample - loss: 0.1755 - val_loss: 0.1091\n",
      "Epoch 56/600\n",
      "426/426 [==============================] - 0s 893us/sample - loss: 0.1854 - val_loss: 0.1060\n",
      "Epoch 57/600\n",
      "426/426 [==============================] - 0s 939us/sample - loss: 0.1546 - val_loss: 0.1092\n",
      "Epoch 58/600\n",
      "426/426 [==============================] - 1s 1ms/sample - loss: 0.1592 - val_loss: 0.1042\n",
      "Epoch 59/600\n",
      "426/426 [==============================] - 0s 1ms/sample - loss: 0.1526 - val_loss: 0.1068\n",
      "Epoch 60/600\n",
      "426/426 [==============================] - 1s 1ms/sample - loss: 0.1358 - val_loss: 0.1061\n",
      "Epoch 61/600\n",
      "426/426 [==============================] - 0s 1ms/sample - loss: 0.1621 - val_loss: 0.1028\n",
      "Epoch 62/600\n",
      "426/426 [==============================] - 1s 1ms/sample - loss: 0.1653 - val_loss: 0.1033\n",
      "Epoch 63/600\n",
      "426/426 [==============================] - 0s 1ms/sample - loss: 0.1498 - val_loss: 0.1068\n",
      "Epoch 64/600\n",
      "426/426 [==============================] - 0s 924us/sample - loss: 0.1449 - val_loss: 0.1063\n",
      "Epoch 65/600\n",
      "426/426 [==============================] - 0s 1ms/sample - loss: 0.1526 - val_loss: 0.0984\n",
      "Epoch 66/600\n",
      "426/426 [==============================] - 1s 1ms/sample - loss: 0.1451 - val_loss: 0.0998\n",
      "Epoch 67/600\n"
     ]
    },
    {
     "name": "stdout",
     "output_type": "stream",
     "text": [
      "426/426 [==============================] - 0s 960us/sample - loss: 0.1481 - val_loss: 0.0971\n",
      "Epoch 68/600\n",
      "426/426 [==============================] - 0s 1ms/sample - loss: 0.1465 - val_loss: 0.1012\n",
      "Epoch 69/600\n",
      "426/426 [==============================] - 1s 1ms/sample - loss: 0.1600 - val_loss: 0.0947\n",
      "Epoch 70/600\n",
      "426/426 [==============================] - 0s 996us/sample - loss: 0.1201 - val_loss: 0.0999\n",
      "Epoch 71/600\n",
      "426/426 [==============================] - 0s 998us/sample - loss: 0.1001 - val_loss: 0.0978\n",
      "Epoch 72/600\n",
      "426/426 [==============================] - 0s 1ms/sample - loss: 0.1329 - val_loss: 0.0971\n",
      "Epoch 73/600\n",
      "426/426 [==============================] - 0s 927us/sample - loss: 0.1413 - val_loss: 0.0941\n",
      "Epoch 74/600\n",
      "426/426 [==============================] - 1s 1ms/sample - loss: 0.1252 - val_loss: 0.0935\n",
      "Epoch 75/600\n",
      "426/426 [==============================] - 0s 901us/sample - loss: 0.1228 - val_loss: 0.0971\n",
      "Epoch 76/600\n",
      "426/426 [==============================] - 0s 984us/sample - loss: 0.1364 - val_loss: 0.0935\n",
      "Epoch 77/600\n",
      "426/426 [==============================] - 1s 1ms/sample - loss: 0.1341 - val_loss: 0.1001\n",
      "Epoch 78/600\n",
      "426/426 [==============================] - 0s 1ms/sample - loss: 0.1360 - val_loss: 0.1031\n",
      "Epoch 79/600\n",
      "426/426 [==============================] - 0s 1ms/sample - loss: 0.1400 - val_loss: 0.0963\n",
      "Epoch 80/600\n",
      "426/426 [==============================] - 1s 1ms/sample - loss: 0.1474 - val_loss: 0.0971\n",
      "Epoch 81/600\n",
      "426/426 [==============================] - 0s 1ms/sample - loss: 0.1065 - val_loss: 0.0943\n",
      "Epoch 82/600\n",
      "426/426 [==============================] - 0s 1ms/sample - loss: 0.1220 - val_loss: 0.0958\n",
      "Epoch 83/600\n",
      "426/426 [==============================] - 1s 1ms/sample - loss: 0.1285 - val_loss: 0.1020\n",
      "Epoch 84/600\n",
      "426/426 [==============================] - 0s 1ms/sample - loss: 0.1347 - val_loss: 0.0935\n",
      "Epoch 85/600\n",
      "426/426 [==============================] - 0s 937us/sample - loss: 0.1284 - val_loss: 0.0948\n",
      "Epoch 86/600\n",
      "426/426 [==============================] - 1s 2ms/sample - loss: 0.1176 - val_loss: 0.1026\n",
      "Epoch 87/600\n",
      "426/426 [==============================] - 0s 1ms/sample - loss: 0.1264 - val_loss: 0.0913\n",
      "Epoch 88/600\n",
      "426/426 [==============================] - 1s 1ms/sample - loss: 0.1388 - val_loss: 0.0967\n",
      "Epoch 89/600\n",
      "426/426 [==============================] - 0s 1ms/sample - loss: 0.1010 - val_loss: 0.0962\n",
      "Epoch 90/600\n",
      "426/426 [==============================] - 1s 2ms/sample - loss: 0.0995 - val_loss: 0.0903\n",
      "Epoch 91/600\n",
      "426/426 [==============================] - 1s 1ms/sample - loss: 0.1355 - val_loss: 0.0980\n",
      "Epoch 92/600\n",
      "426/426 [==============================] - 1s 1ms/sample - loss: 0.1376 - val_loss: 0.0965\n",
      "Epoch 93/600\n",
      "426/426 [==============================] - 1s 2ms/sample - loss: 0.1057 - val_loss: 0.0901\n",
      "Epoch 94/600\n",
      "426/426 [==============================] - 1s 1ms/sample - loss: 0.1194 - val_loss: 0.0880\n",
      "Epoch 95/600\n",
      "426/426 [==============================] - 1s 1ms/sample - loss: 0.1074 - val_loss: 0.0979\n",
      "Epoch 96/600\n",
      "426/426 [==============================] - 1s 2ms/sample - loss: 0.1039 - val_loss: 0.0970\n",
      "Epoch 97/600\n",
      "426/426 [==============================] - 1s 1ms/sample - loss: 0.1240 - val_loss: 0.0937\n",
      "Epoch 98/600\n",
      "426/426 [==============================] - 1s 1ms/sample - loss: 0.0906 - val_loss: 0.0918\n",
      "Epoch 99/600\n",
      "426/426 [==============================] - 0s 1ms/sample - loss: 0.1001 - val_loss: 0.0957\n",
      "Epoch 100/600\n",
      "426/426 [==============================] - 1s 1ms/sample - loss: 0.1159 - val_loss: 0.0892\n",
      "Epoch 101/600\n",
      "426/426 [==============================] - 1s 1ms/sample - loss: 0.0889 - val_loss: 0.0930\n",
      "Epoch 102/600\n",
      "426/426 [==============================] - 1s 1ms/sample - loss: 0.0942 - val_loss: 0.0872\n",
      "Epoch 103/600\n",
      "426/426 [==============================] - 1s 1ms/sample - loss: 0.1043 - val_loss: 0.0986\n",
      "Epoch 104/600\n",
      "426/426 [==============================] - 1s 2ms/sample - loss: 0.1249 - val_loss: 0.1006\n",
      "Epoch 105/600\n",
      "426/426 [==============================] - 1s 1ms/sample - loss: 0.1076 - val_loss: 0.0879\n",
      "Epoch 106/600\n",
      "426/426 [==============================] - 1s 2ms/sample - loss: 0.0970 - val_loss: 0.0852\n",
      "Epoch 107/600\n",
      "426/426 [==============================] - 1s 1ms/sample - loss: 0.0929 - val_loss: 0.0861\n",
      "Epoch 108/600\n",
      "426/426 [==============================] - 0s 1ms/sample - loss: 0.1239 - val_loss: 0.0937\n",
      "Epoch 109/600\n",
      "426/426 [==============================] - 1s 1ms/sample - loss: 0.1136 - val_loss: 0.0937\n",
      "Epoch 110/600\n",
      "426/426 [==============================] - 0s 963us/sample - loss: 0.1017 - val_loss: 0.0983\n",
      "Epoch 111/600\n",
      "426/426 [==============================] - 0s 1ms/sample - loss: 0.1056 - val_loss: 0.0902\n",
      "Epoch 112/600\n",
      "426/426 [==============================] - 0s 880us/sample - loss: 0.0980 - val_loss: 0.0874\n",
      "Epoch 113/600\n",
      "426/426 [==============================] - 0s 985us/sample - loss: 0.0820 - val_loss: 0.1005\n",
      "Epoch 114/600\n",
      "426/426 [==============================] - 1s 1ms/sample - loss: 0.1066 - val_loss: 0.0941\n",
      "Epoch 115/600\n",
      "426/426 [==============================] - 1s 2ms/sample - loss: 0.1141 - val_loss: 0.0968\n",
      "Epoch 116/600\n",
      "426/426 [==============================] - 1s 2ms/sample - loss: 0.1066 - val_loss: 0.0915\n",
      "Epoch 117/600\n",
      "426/426 [==============================] - 1s 1ms/sample - loss: 0.1039 - val_loss: 0.0884\n",
      "Epoch 118/600\n",
      "426/426 [==============================] - 1s 2ms/sample - loss: 0.0907 - val_loss: 0.0956\n",
      "Epoch 119/600\n",
      "426/426 [==============================] - 1s 2ms/sample - loss: 0.0873 - val_loss: 0.0876\n",
      "Epoch 120/600\n",
      "426/426 [==============================] - 1s 2ms/sample - loss: 0.0949 - val_loss: 0.0875\n",
      "Epoch 121/600\n",
      "426/426 [==============================] - 0s 1ms/sample - loss: 0.1007 - val_loss: 0.0884\n",
      "Epoch 122/600\n",
      "426/426 [==============================] - 1s 2ms/sample - loss: 0.0777 - val_loss: 0.0877\n",
      "Epoch 123/600\n",
      "426/426 [==============================] - 1s 1ms/sample - loss: 0.1045 - val_loss: 0.0890\n",
      "Epoch 124/600\n",
      "426/426 [==============================] - 0s 863us/sample - loss: 0.1093 - val_loss: 0.1016\n",
      "Epoch 125/600\n",
      "426/426 [==============================] - 1s 1ms/sample - loss: 0.1003 - val_loss: 0.0841\n",
      "Epoch 126/600\n",
      "426/426 [==============================] - 0s 975us/sample - loss: 0.0844 - val_loss: 0.0926\n",
      "Epoch 127/600\n",
      "426/426 [==============================] - 0s 1ms/sample - loss: 0.1028 - val_loss: 0.1141\n",
      "Epoch 128/600\n",
      "426/426 [==============================] - 0s 1ms/sample - loss: 0.1016 - val_loss: 0.0897\n",
      "Epoch 129/600\n",
      "426/426 [==============================] - 0s 1ms/sample - loss: 0.1164 - val_loss: 0.0887\n",
      "Epoch 130/600\n",
      "426/426 [==============================] - 0s 1ms/sample - loss: 0.0880 - val_loss: 0.0997\n",
      "Epoch 131/600\n",
      "426/426 [==============================] - 1s 1ms/sample - loss: 0.0822 - val_loss: 0.0898\n",
      "Epoch 132/600\n",
      "426/426 [==============================] - 0s 743us/sample - loss: 0.0825 - val_loss: 0.0975\n",
      "Epoch 133/600\n",
      "426/426 [==============================] - 0s 849us/sample - loss: 0.0732 - val_loss: 0.0952\n",
      "Epoch 134/600\n",
      "426/426 [==============================] - 0s 1ms/sample - loss: 0.0966 - val_loss: 0.0968\n",
      "Epoch 135/600\n",
      "426/426 [==============================] - 0s 1ms/sample - loss: 0.0780 - val_loss: 0.0948\n",
      "Epoch 136/600\n",
      "426/426 [==============================] - 1s 1ms/sample - loss: 0.0970 - val_loss: 0.0968\n",
      "Epoch 137/600\n",
      "426/426 [==============================] - 1s 1ms/sample - loss: 0.0815 - val_loss: 0.0918\n",
      "Epoch 138/600\n",
      "426/426 [==============================] - 1s 1ms/sample - loss: 0.0837 - val_loss: 0.0927\n",
      "Epoch 139/600\n",
      "426/426 [==============================] - 0s 1ms/sample - loss: 0.1043 - val_loss: 0.0999\n",
      "Epoch 140/600\n",
      "426/426 [==============================] - 1s 1ms/sample - loss: 0.0798 - val_loss: 0.0945\n",
      "Epoch 141/600\n",
      "426/426 [==============================] - 1s 1ms/sample - loss: 0.0811 - val_loss: 0.0949\n",
      "Epoch 142/600\n",
      "426/426 [==============================] - 1s 1ms/sample - loss: 0.0778 - val_loss: 0.0923\n",
      "Epoch 143/600\n",
      "426/426 [==============================] - 0s 1ms/sample - loss: 0.0890 - val_loss: 0.1014\n",
      "Epoch 144/600\n",
      "426/426 [==============================] - 0s 1ms/sample - loss: 0.0845 - val_loss: 0.0899\n",
      "Epoch 145/600\n"
     ]
    },
    {
     "name": "stdout",
     "output_type": "stream",
     "text": [
      "426/426 [==============================] - 1s 1ms/sample - loss: 0.0772 - val_loss: 0.0924\n",
      "Epoch 146/600\n",
      "426/426 [==============================] - 1s 2ms/sample - loss: 0.0893 - val_loss: 0.1023\n",
      "Epoch 147/600\n",
      "426/426 [==============================] - 1s 1ms/sample - loss: 0.0879 - val_loss: 0.0857\n",
      "Epoch 148/600\n",
      "426/426 [==============================] - 0s 1ms/sample - loss: 0.0938 - val_loss: 0.0878\n",
      "Epoch 149/600\n",
      "426/426 [==============================] - 0s 1ms/sample - loss: 0.1035 - val_loss: 0.0862\n",
      "Epoch 150/600\n",
      "426/426 [==============================] - 0s 954us/sample - loss: 0.0936 - val_loss: 0.0970\n",
      "Epoch 00150: early stopping\n"
     ]
    },
    {
     "data": {
      "text/plain": [
       "<tensorflow.python.keras.callbacks.History at 0x2762c4eb518>"
      ]
     },
     "execution_count": 18,
     "metadata": {},
     "output_type": "execute_result"
    }
   ],
   "source": [
    "model.fit(x=X_train, \n",
    "          y=y_train, \n",
    "          epochs=600,\n",
    "          validation_data=(X_test, y_test), verbose=1,\n",
    "          callbacks=[early_stop,board]\n",
    "          )"
   ]
  },
  {
   "cell_type": "markdown",
   "metadata": {},
   "source": [
    "# Running Tensorboard\n"
   ]
  },
  {
   "cell_type": "markdown",
   "metadata": {},
   "source": [
    "## Running through the Command Line\n",
    "\n",
    "**Watch video to see how to run Tensorboard through a command line call.**"
   ]
  },
  {
   "cell_type": "markdown",
   "metadata": {},
   "source": [
    "Tensorboard will run locally in your browser at [http://localhost:6006/](http://localhost:6006/)\n"
   ]
  },
  {
   "cell_type": "code",
   "execution_count": 19,
   "metadata": {},
   "outputs": [
    {
     "name": "stdout",
     "output_type": "stream",
     "text": [
      "logs\\fit\n"
     ]
    }
   ],
   "source": [
    "print(log_directory)"
   ]
  },
  {
   "cell_type": "code",
   "execution_count": 20,
   "metadata": {},
   "outputs": [
    {
     "data": {
      "text/plain": [
       "'C:\\\\Users\\\\Kishan\\\\Downloads\\\\Py_DS_ML_Udemy_jose\\\\TensorFlow_FILES\\\\ANNs'"
      ]
     },
     "execution_count": 20,
     "metadata": {},
     "output_type": "execute_result"
    }
   ],
   "source": [
    "pwd"
   ]
  },
  {
   "cell_type": "markdown",
   "metadata": {},
   "source": [
    "### Use cd at your command line to change directory to the file path reported back by pwd or your current .py file location.\n",
    "### Then run this code at your command line or terminal"
   ]
  },
  {
   "cell_type": "code",
   "execution_count": null,
   "metadata": {},
   "outputs": [],
   "source": [
    "tensorboard --logdir logs\\fit "
   ]
  }
 ],
 "metadata": {
  "kernelspec": {
   "display_name": "Python 3",
   "language": "python",
   "name": "python3"
  },
  "language_info": {
   "codemirror_mode": {
    "name": "ipython",
    "version": 3
   },
   "file_extension": ".py",
   "mimetype": "text/x-python",
   "name": "python",
   "nbconvert_exporter": "python",
   "pygments_lexer": "ipython3",
   "version": "3.7.3"
  }
 },
 "nbformat": 4,
 "nbformat_minor": 2
}
